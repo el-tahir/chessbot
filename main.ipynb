{
  "cells": [
    {
      "attachments": {},
      "cell_type": "markdown",
      "metadata": {},
      "source": [
        "# Load the Data"
      ]
    },
    {
      "cell_type": "code",
      "execution_count": 132,
      "metadata": {},
      "outputs": [],
      "source": [
        "import pandas as pd\n",
        "import numpy as np\n",
        "\n",
        "# Load white and black datasets\n",
        "white_df = pd.read_csv(\"white_df_100.csv\")\n",
        "black_df = pd.read_csv(\"black_df_100.csv\")\n"
      ]
    },
    {
      "attachments": {},
      "cell_type": "markdown",
      "metadata": {},
      "source": [
        "# Pre-process Data"
      ]
    },
    {
      "cell_type": "code",
      "execution_count": 133,
      "metadata": {},
      "outputs": [],
      "source": [
        "# Concatenate the data\n",
        "all_df = pd.concat([black_df, white_df])\n",
        "\n",
        "# Pre-process data\n",
        "all_df['Is_Check'] = all_df['Is_Check'].astype(int)\n",
        "all_df['Is_Capture'] = all_df['Piece_Captured'].apply(lambda x: 1 if x != None else 0)\n",
        "all_df = all_df.drop(columns=['FEN'])\n",
        "\n",
        "# Save the combined dataset to a file\n",
        "all_df.to_csv('all_df_100.csv', index=False)\n"
      ]
    },
    {
      "attachments": {},
      "cell_type": "markdown",
      "metadata": {},
      "source": [
        "# Define Helper Functions"
      ]
    },
    {
      "cell_type": "code",
      "execution_count": 134,
      "metadata": {},
      "outputs": [],
      "source": [
        "import ast\n",
        "\n",
        "# Define helper functions for converting chess moves to tuples and vice versa\n",
        "def chess_square_to_number(square: str) -> int:\n",
        "    file = square[0]\n",
        "    rank = int(square[1])\n",
        "    file_dict = {'a': 1, 'b': 2, 'c': 3, 'd': 4, 'e': 5, 'f': 6, 'g': 7, 'h': 8}\n",
        "    return (file_dict[file] - 1) * 8 + rank\n",
        "\n",
        "def chess_move_to_tuple(move):\n",
        "    start_square = chess_square_to_number(move[:2])\n",
        "    end_square = chess_square_to_number(move[2:])\n",
        "    return (start_square, end_square)\n",
        "\n",
        "def chess_moves_to_tuples(moves):\n",
        "    result = []\n",
        "    for move in moves:\n",
        "        result.append(chess_move_to_tuple(move))\n",
        "    return result\n"
      ]
    },
    {
      "attachments": {},
      "cell_type": "markdown",
      "metadata": {},
      "source": [
        "# Convert Moves to Tuples"
      ]
    },
    {
      "cell_type": "code",
      "execution_count": 135,
      "metadata": {},
      "outputs": [],
      "source": [
        "# Convert moves to tuples\n",
        "all_df[\"Move\"] = all_df[\"Move\"].apply(lambda x: chess_move_to_tuple(x))\n",
        "all_df[\"Top_10_Moves\"] = all_df[\"Top_10_Moves\"].apply(lambda x: ast.literal_eval(x))\n",
        "all_df[\"Top_10_Moves\"] = all_df[\"Top_10_Moves\"].apply(lambda x: chess_moves_to_tuples(x))\n"
      ]
    },
    {
      "attachments": {},
      "cell_type": "markdown",
      "metadata": {},
      "source": [
        "# Prepare Data for Model Training"
      ]
    },
    {
      "cell_type": "code",
      "execution_count": 136,
      "metadata": {},
      "outputs": [],
      "source": [
        "# Prepare data for model training\n",
        "candidate_data = all_df[\"Top_10_Moves\"].tolist()\n",
        "target_data = all_df[\"Move\"].tolist()\n"
      ]
    },
    {
      "attachments": {},
      "cell_type": "markdown",
      "metadata": {},
      "source": [
        "# Calculate Euclidean Distances"
      ]
    },
    {
      "cell_type": "code",
      "execution_count": 137,
      "metadata": {},
      "outputs": [],
      "source": [
        "# Calculate the Euclidean distance between each candidate move and the target move\n",
        "X, y = [], []\n",
        "for i, candidates in enumerate(candidate_data):\n",
        "    target = target_data[i]\n",
        "    for candidate in candidates:\n",
        "        X.append(candidate)\n",
        "        y.append(np.linalg.norm(np.array(candidate) - np.array(target)))\n",
        "\n",
        "X = np.array(X)\n",
        "y = np.array(y)"
      ]
    },
    {
      "attachments": {},
      "cell_type": "markdown",
      "metadata": {},
      "source": [
        "# Train-Test Split"
      ]
    },
    {
      "cell_type": "code",
      "execution_count": 138,
      "metadata": {},
      "outputs": [],
      "source": [
        "from sklearn.model_selection import train_test_split\n",
        "\n",
        "# Split the data\n",
        "X_train, X_test, y_train, y_test = train_test_split(X, y, test_size=0.2)\n"
      ]
    },
    {
      "attachments": {},
      "cell_type": "markdown",
      "metadata": {},
      "source": [
        "# Import Libraries"
      ]
    },
    {
      "cell_type": "code",
      "execution_count": 139,
      "metadata": {},
      "outputs": [],
      "source": [
        "import random\n",
        "from sklearn.ensemble import RandomForestRegressor, GradientBoostingRegressor\n",
        "from sklearn.linear_model import LinearRegression, Ridge, Lasso, ElasticNet\n",
        "from sklearn.neighbors import KNeighborsRegressor\n",
        "from sklearn.tree import DecisionTreeRegressor\n"
      ]
    },
    {
      "attachments": {},
      "cell_type": "markdown",
      "metadata": {},
      "source": [
        "# Define Models"
      ]
    },
    {
      "cell_type": "code",
      "execution_count": 140,
      "metadata": {},
      "outputs": [],
      "source": [
        "# Create a list of models\n",
        "models = [\n",
        "    (\"RandomForestRegressor\", RandomForestRegressor(n_estimators=100, random_state=42)),\n",
        "    (\"LinearRegression\", LinearRegression()),\n",
        "    (\"Ridge\", Ridge(alpha=1.0, random_state=42)),\n",
        "    (\"Lasso\", Lasso(alpha=1.0, random_state=42)),\n",
        "    (\"ElasticNet\", ElasticNet(alpha=1.0, l1_ratio=0.5, random_state=42)),\n",
        "    (\"KNeighborsRegressor\", KNeighborsRegressor(n_neighbors=5, weights=\"uniform\", algorithm=\"auto\")),\n",
        "    (\"DecisionTreeRegressor\", DecisionTreeRegressor(random_state=42)),\n",
        "    (\"GradientBoostingRegressor\", GradientBoostingRegressor(n_estimators=100, learning_rate=0.1, random_state=42)),\n",
        "]\n"
      ]
    },
    {
      "attachments": {},
      "cell_type": "markdown",
      "metadata": {},
      "source": [
        "# Define Functions for Accuracy Calculation"
      ]
    },
    {
      "cell_type": "code",
      "execution_count": 141,
      "metadata": {},
      "outputs": [],
      "source": [
        "def sort_candidates(candidates, model):\n",
        "    likelihoods = model.predict(candidates)\n",
        "    return sorted(candidates, key=lambda x: likelihoods[candidates.index(x)], reverse=True)\n",
        "\n",
        "def get_top_candidate(candidates, model):\n",
        "    likelihoods = model.predict(candidates)\n",
        "    sorted_candidates = sorted(candidates, key=lambda x: likelihoods[candidates.index(x)], reverse=False)\n",
        "    return sorted_candidates[0]\n",
        "\n",
        "def get_random_candidate(candidates):\n",
        "    return random.choice(candidates)\n"
      ]
    },
    {
      "attachments": {},
      "cell_type": "markdown",
      "metadata": {},
      "source": [
        "# Train Models, Calculate Accuracy, and Compare"
      ]
    },
    {
      "cell_type": "code",
      "execution_count": 142,
      "metadata": {},
      "outputs": [
        {
          "name": "stdout",
          "output_type": "stream",
          "text": [
            "                       Model  Pure Accuracy  Random Selection Accuracy\n",
            "0      RandomForestRegressor       0.232723                   0.117355\n",
            "1           LinearRegression       0.093515                   0.112246\n",
            "2                      Ridge       0.093515                   0.111679\n",
            "3                      Lasso       0.093089                   0.112388\n",
            "4                 ElasticNet       0.093515                   0.108557\n",
            "5        KNeighborsRegressor       0.205194                   0.112814\n",
            "6      DecisionTreeRegressor       0.235561                   0.113240\n",
            "7  GradientBoostingRegressor       0.141762                   0.109834\n"
          ]
        }
      ],
      "source": [
        "# Placeholder for results\n",
        "results = []\n",
        "\n",
        "for model_name, model in models:\n",
        "    model.fit(X_train, y_train)\n",
        "    \n",
        "    # Calculate the accuracy of the model by comparing the top predicted move to the target move\n",
        "    correct = sum(get_top_candidate(candidates, model) == target for candidates, target in zip(candidate_data, target_data))\n",
        "    total = len(candidate_data)\n",
        "    accuracy = correct / total\n",
        "    \n",
        "    # Calculate the accuracy of randomly selecting a move from the candidates\n",
        "    random_correct = sum(get_random_candidate(candidates) == target for candidates, target in zip(candidate_data, target_data))\n",
        "    random_accuracy = random_correct / total\n",
        "    \n",
        "    results.append([model_name, accuracy, random_accuracy])\n",
        "\n",
        "# Create a DataFrame to display the results\n",
        "results_df = pd.DataFrame(results, columns=[\"Model\", \"Pure Accuracy\", \"Random Selection Accuracy\"])\n",
        "print(results_df)\n"
      ]
    },
    {
      "attachments": {},
      "cell_type": "markdown",
      "metadata": {},
      "source": [
        "# Select the Best Model"
      ]
    },
    {
      "cell_type": "code",
      "execution_count": 143,
      "metadata": {},
      "outputs": [
        {
          "name": "stdout",
          "output_type": "stream",
          "text": [
            "Best model: DecisionTreeRegressor\n",
            "DecisionTreeRegressor(random_state=42)\n"
          ]
        }
      ],
      "source": [
        "# Find the model with the highest pure accuracy\n",
        "best_model_name = results_df.loc[results_df[\"Pure Accuracy\"].idxmax()][\"Model\"]\n",
        "\n",
        "# Find the corresponding model object from the list of models\n",
        "best_model = [model for name, model in models if name == best_model_name][0]\n",
        "\n",
        "print(f\"Best model: {best_model_name}\")\n",
        "print(best_model)"
      ]
    },
    {
      "attachments": {},
      "cell_type": "markdown",
      "metadata": {},
      "source": [
        "# Save the Best Model"
      ]
    },
    {
      "cell_type": "code",
      "execution_count": 144,
      "metadata": {},
      "outputs": [
        {
          "data": {
            "text/plain": [
              "['final_model_chess.joblib']"
            ]
          },
          "execution_count": 144,
          "metadata": {},
          "output_type": "execute_result"
        }
      ],
      "source": [
        "import joblib\n",
        "\n",
        "# Save the best model to a file\n",
        "joblib.dump(best_model, 'final_model_chess.joblib')\n"
      ]
    }
  ],
  "metadata": {
    "colab": {
      "provenance": []
    },
    "gpuClass": "standard",
    "kernelspec": {
      "display_name": "base",
      "language": "python",
      "name": "python3"
    },
    "language_info": {
      "codemirror_mode": {
        "name": "ipython",
        "version": 3
      },
      "file_extension": ".py",
      "mimetype": "text/x-python",
      "name": "python",
      "nbconvert_exporter": "python",
      "pygments_lexer": "ipython3",
      "version": "3.9.13"
    },
    "orig_nbformat": 4
  },
  "nbformat": 4,
  "nbformat_minor": 0
}
